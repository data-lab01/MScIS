{
 "cells": [
  {
   "cell_type": "code",
   "execution_count": 1,
   "id": "b4d5b9a5",
   "metadata": {},
   "outputs": [
    {
     "name": "stdout",
     "output_type": "stream",
     "text": [
      "Requirement already satisfied: scikit-learn in ./lib/python3.12/site-packages (1.7.0)\n",
      "Requirement already satisfied: numpy>=1.22.0 in ./lib/python3.12/site-packages (from scikit-learn) (2.3.1)\n",
      "Requirement already satisfied: scipy>=1.8.0 in ./lib/python3.12/site-packages (from scikit-learn) (1.16.0)\n",
      "Requirement already satisfied: joblib>=1.2.0 in ./lib/python3.12/site-packages (from scikit-learn) (1.5.1)\n",
      "Requirement already satisfied: threadpoolctl>=3.1.0 in ./lib/python3.12/site-packages (from scikit-learn) (3.6.0)\n",
      "Note: you may need to restart the kernel to use updated packages.\n"
     ]
    }
   ],
   "source": [
    "%pip install scikit-learn\n",
    "import pandas as pd\n",
    "from sklearn.ensemble import IsolationForest\n",
    "\n",
    "# Example DataFrame with a 'value' column\n",
    "df = pd.DataFrame({'value': [10, 12, 13, 12, 100, 11, 13, 12, 14, 13, 10, 11, 12, 13, 14, 1000]})\n",
    "\n",
    "# Prepare data for the model\n",
    "X = df[['value']].values\n",
    "\n",
    "# Fit Isolation Forest\n",
    "iso_forest = IsolationForest(contamination=0.01)\n",
    "iso_forest.fit(X)\n",
    "\n",
    "# Predict anomaly scores\n",
    "df['anomaly_score'] = iso_forest.decision_function(X)\n",
    "df['anomaly'] = iso_forest.predict(X)  # -1 for anomaly, 1 for normal"
   ]
  },
  {
   "cell_type": "code",
   "execution_count": null,
   "id": "567cda12",
   "metadata": {},
   "outputs": [],
   "source": []
  }
 ],
 "metadata": {
  "kernelspec": {
   "display_name": "mscis-thesis",
   "language": "python",
   "name": "python3"
  },
  "language_info": {
   "codemirror_mode": {
    "name": "ipython",
    "version": 3
   },
   "file_extension": ".py",
   "mimetype": "text/x-python",
   "name": "python",
   "nbconvert_exporter": "python",
   "pygments_lexer": "ipython3",
   "version": "3.12.3"
  }
 },
 "nbformat": 4,
 "nbformat_minor": 5
}
