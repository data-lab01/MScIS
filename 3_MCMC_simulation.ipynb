{
 "cells": [
  {
   "cell_type": "code",
   "execution_count": 3,
   "id": "55700334",
   "metadata": {},
   "outputs": [
    {
     "name": "stderr",
     "output_type": "stream",
     "text": [
      "Initializing NUTS using jitter+adapt_diag...\n",
      "Multiprocess sampling (2 chains in 2 jobs)\n",
      "NUTS: [mu, sigma]\n",
      "Sampling 2 chains for 500 tune and 1_000 draw iterations (1_000 + 2_000 draws total) took 1 seconds.\n",
      "We recommend running at least 4 chains for robust computation of convergence diagnostics\n"
     ]
    },
    {
     "name": "stdout",
     "output_type": "stream",
     "text": [
      "MCMC correction plot saved as '/home/rbakyayita/Documents/MScIS-thesis/mscis-thesis/figures/MCMC_Simulation.png'\n"
     ]
    }
   ],
   "source": [
    "import numpy as np\n",
    "import pandas as pd\n",
    "import matplotlib.pyplot as plt\n",
    "import pymc as pm\n",
    "\n",
    "# Generate synthetic normal sensor data\n",
    "np.random.seed(42)\n",
    "n = 100\n",
    "timestamps = pd.date_range(\"2025-01-01\", periods=n, freq=\"s\")\n",
    "true_values = np.random.normal(loc=25, scale=0.5, size=n)\n",
    "\n",
    "# Introduce corruption (spikes and missing values)\n",
    "corrupted_values = true_values.copy()\n",
    "corrupted_values[10] += 8    # spike\n",
    "corrupted_values[25] -= 7    # drop\n",
    "corrupted_values[40] = np.nan  # missing\n",
    "corrupted_values[60] += 6\n",
    "corrupted_values[75] = np.nan\n",
    "\n",
    "# MCMC Correction using a simple normal model\n",
    "corrected_values = corrupted_values.copy()\n",
    "\n",
    "with pm.Model() as model:\n",
    "    mu = pm.Normal(\"mu\", mu=25, sigma=1)\n",
    "    sigma = pm.HalfNormal(\"sigma\", sigma=1)\n",
    "\n",
    "    observed = pm.Normal(\"obs\", mu=mu, sigma=sigma, observed=corrupted_values[~np.isnan(corrupted_values)])\n",
    "\n",
    "    trace = pm.sample(1000, tune=500, chains=2, target_accept=0.95, return_inferencedata=False, progressbar=False)\n",
    "\n",
    "    # Impute missing values using posterior mean\n",
    "    corrected_mean = trace[\"mu\"].mean()\n",
    "\n",
    "    # Replace corrupted/missing manually identified\n",
    "    for i in [10, 25, 40, 60, 75]:\n",
    "        corrected_values[i] = corrected_mean\n",
    "\n",
    "# Plotting\n",
    "plt.figure(figsize=(10, 5))\n",
    "plt.plot(timestamps, true_values, label=\"True (Original)\", linestyle=\"--\", color=\"green\", alpha=0.7)\n",
    "plt.plot(timestamps, corrupted_values, label=\"Corrupted\", color=\"red\", linewidth=1.5)\n",
    "plt.plot(timestamps, corrected_values, label=\"MCMC Corrected\", color=\"blue\", linewidth=1.5)\n",
    "plt.xlabel(\"Time\")\n",
    "plt.ylabel(\"Sensor Reading (°C)\")\n",
    "plt.title(\"MCMC Correction of Corrupted Time Series Data\")\n",
    "plt.legend()\n",
    "plt.grid(True)\n",
    "plt.tight_layout()\n",
    "plt.savefig(\"/home/rbakyayita/Documents/MScIS-thesis/mscis-thesis/figures/MCMC_Simulation.png\", dpi=300)\n",
    "plt.close()\n",
    "\n",
    "print(\"MCMC correction plot saved as '/home/rbakyayita/Documents/MScIS-thesis/mscis-thesis/figures/MCMC_Simulation.png'\")\n"
   ]
  },
  {
   "cell_type": "code",
   "execution_count": null,
   "id": "c6b5d3b0",
   "metadata": {},
   "outputs": [],
   "source": []
  }
 ],
 "metadata": {
  "kernelspec": {
   "display_name": "mscis-thesis",
   "language": "python",
   "name": "python3"
  },
  "language_info": {
   "codemirror_mode": {
    "name": "ipython",
    "version": 3
   },
   "file_extension": ".py",
   "mimetype": "text/x-python",
   "name": "python",
   "nbconvert_exporter": "python",
   "pygments_lexer": "ipython3",
   "version": "3.12.3"
  }
 },
 "nbformat": 4,
 "nbformat_minor": 5
}
