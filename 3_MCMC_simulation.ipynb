{
 "cells": [
  {
   "cell_type": "code",
   "execution_count": 9,
   "id": "55700334",
   "metadata": {},
   "outputs": [
    {
     "ename": "ModuleNotFoundError",
     "evalue": "No module named 'pymc3'",
     "output_type": "error",
     "traceback": [
      "\u001b[0;31m---------------------------------------------------------------------------\u001b[0m",
      "\u001b[0;31mModuleNotFoundError\u001b[0m                       Traceback (most recent call last)",
      "Cell \u001b[0;32mIn[9], line 4\u001b[0m\n\u001b[1;32m      2\u001b[0m \u001b[38;5;28;01mimport\u001b[39;00m \u001b[38;5;21;01mpandas\u001b[39;00m \u001b[38;5;28;01mas\u001b[39;00m \u001b[38;5;21;01mpd\u001b[39;00m\n\u001b[1;32m      3\u001b[0m \u001b[38;5;28;01mimport\u001b[39;00m \u001b[38;5;21;01mmatplotlib\u001b[39;00m\u001b[38;5;21;01m.\u001b[39;00m\u001b[38;5;21;01mpyplot\u001b[39;00m \u001b[38;5;28;01mas\u001b[39;00m \u001b[38;5;21;01mplt\u001b[39;00m\n\u001b[0;32m----> 4\u001b[0m \u001b[38;5;28;01mimport\u001b[39;00m \u001b[38;5;21;01mpymc3\u001b[39;00m \u001b[38;5;28;01mas\u001b[39;00m \u001b[38;5;21;01mpm\u001b[39;00m\n\u001b[1;32m      6\u001b[0m \u001b[38;5;66;03m# Generate synthetic normal sensor data\u001b[39;00m\n\u001b[1;32m      7\u001b[0m np\u001b[38;5;241m.\u001b[39mrandom\u001b[38;5;241m.\u001b[39mseed(\u001b[38;5;241m42\u001b[39m)\n",
      "\u001b[0;31mModuleNotFoundError\u001b[0m: No module named 'pymc3'"
     ]
    }
   ],
   "source": [
    "import numpy as np\n",
    "import pandas as pd\n",
    "import matplotlib.pyplot as plt\n",
    "import pymc3 as pm\n",
    "\n",
    "# Generate synthetic normal sensor data\n",
    "np.random.seed(42)\n",
    "n = 100\n",
    "timestamps = pd.date_range(\"2025-01-01\", periods=n, freq=\"s\")\n",
    "true_values = np.random.normal(loc=25, scale=0.5, size=n)\n",
    "\n",
    "# Introduce corruption (spikes and missing values)\n",
    "corrupted_values = true_values.copy()\n",
    "corrupted_values[10] += 8    # spike\n",
    "corrupted_values[25] -= 7    # drop\n",
    "corrupted_values[40] = np.nan  # missing\n",
    "corrupted_values[60] += 6\n",
    "corrupted_values[75] = np.nan\n",
    "\n",
    "# MCMC Correction using a simple normal model\n",
    "corrected_values = corrupted_values.copy()\n",
    "\n",
    "with pm.Model() as model:\n",
    "    mu = pm.Normal(\"mu\", mu=25, sigma=1)\n",
    "    sigma = pm.HalfNormal(\"sigma\", sigma=1)\n",
    "\n",
    "    observed = pm.Normal(\"obs\", mu=mu, sigma=sigma, observed=corrupted_values[~np.isnan(corrupted_values)])\n",
    "\n",
    "    trace = pm.sample(1000, tune=500, chains=2, target_accept=0.95, return_inferencedata=False, progressbar=False)\n",
    "\n",
    "    # Impute missing values using posterior mean\n",
    "    corrected_mean = trace[\"mu\"].mean()\n",
    "\n",
    "    # Replace corrupted/missing manually identified\n",
    "    for i in [10, 25, 40, 60, 75]:\n",
    "        corrected_values[i] = corrected_mean\n",
    "\n",
    "# Plotting\n",
    "plt.figure(figsize=(10, 5))\n",
    "plt.plot(timestamps, true_values, label=\"True (Original)\", linestyle=\"--\", color=\"green\", alpha=0.7)\n",
    "plt.plot(timestamps, corrupted_values, label=\"Corrupted\", color=\"red\", linewidth=1.5)\n",
    "plt.plot(timestamps, corrected_values, label=\"MCMC Corrected\", color=\"blue\", linewidth=1.5)\n",
    "plt.xlabel(\"Time\")\n",
    "plt.ylabel(\"Sensor Reading (°C)\")\n",
    "plt.title(\"MCMC Correction of Corrupted Time Series Data\")\n",
    "plt.legend()\n",
    "plt.grid(True)\n",
    "plt.tight_layout()\n",
    "plt.savefig(\"/home/rbakyayita/Documents/MScIS-thesis/mscis/figures/MCMC_Simulation.png\", dpi=300)\n",
    "plt.close()\n",
    "\n",
    "print(\"MCMC correction plot saved as '/home/rbakyayita/Documents/MScIS-thesis/mscis/figures/MCMC_Simulation.png'\")\n"
   ]
  },
  {
   "cell_type": "code",
   "execution_count": 10,
   "id": "c6b5d3b0",
   "metadata": {},
   "outputs": [
    {
     "name": "stdout",
     "output_type": "stream",
     "text": [
      "\u001b[1;31merror\u001b[0m: \u001b[1mexternally-managed-environment\u001b[0m\n",
      "\n",
      "\u001b[31m×\u001b[0m This environment is externally managed\n",
      "\u001b[31m╰─>\u001b[0m To install Python packages system-wide, try apt install\n",
      "\u001b[31m   \u001b[0m python3-xyz, where xyz is the package you are trying to\n",
      "\u001b[31m   \u001b[0m install.\n",
      "\u001b[31m   \u001b[0m \n",
      "\u001b[31m   \u001b[0m If you wish to install a non-Debian-packaged Python package,\n",
      "\u001b[31m   \u001b[0m create a virtual environment using python3 -m venv path/to/venv.\n",
      "\u001b[31m   \u001b[0m Then use path/to/venv/bin/python and path/to/venv/bin/pip. Make\n",
      "\u001b[31m   \u001b[0m sure you have python3-full installed.\n",
      "\u001b[31m   \u001b[0m \n",
      "\u001b[31m   \u001b[0m If you wish to install a non-Debian packaged Python application,\n",
      "\u001b[31m   \u001b[0m it may be easiest to use pipx install xyz, which will manage a\n",
      "\u001b[31m   \u001b[0m virtual environment for you. Make sure you have pipx installed.\n",
      "\u001b[31m   \u001b[0m \n",
      "\u001b[31m   \u001b[0m See /usr/share/doc/python3.12/README.venv for more information.\n",
      "\n",
      "\u001b[1;35mnote\u001b[0m: If you believe this is a mistake, please contact your Python installation or OS distribution provider. You can override this, at the risk of breaking your Python installation or OS, by passing --break-system-packages.\n",
      "\u001b[1;36mhint\u001b[0m: See PEP 668 for the detailed specification.\n",
      "Note: you may need to restart the kernel to use updated packages.\n"
     ]
    }
   ],
   "source": [
    "pip install pymc3\n"
   ]
  },
  {
   "cell_type": "code",
   "execution_count": null,
   "id": "74da5063",
   "metadata": {},
   "outputs": [],
   "source": []
  }
 ],
 "metadata": {
  "kernelspec": {
   "display_name": "Python 3",
   "language": "python",
   "name": "python3"
  },
  "language_info": {
   "codemirror_mode": {
    "name": "ipython",
    "version": 3
   },
   "file_extension": ".py",
   "mimetype": "text/x-python",
   "name": "python",
   "nbconvert_exporter": "python",
   "pygments_lexer": "ipython3",
   "version": "3.12.3"
  }
 },
 "nbformat": 4,
 "nbformat_minor": 5
}
