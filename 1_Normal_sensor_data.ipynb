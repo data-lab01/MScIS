{
 "cells": [
  {
   "cell_type": "code",
   "execution_count": 8,
   "id": "1adc2191",
   "metadata": {},
   "outputs": [
    {
     "name": "stdout",
     "output_type": "stream",
     "text": [
      "Normal sensor data plot saved as 'figures/CleanData.png'\n"
     ]
    }
   ],
   "source": [
    "import numpy as np\n",
    "import pandas as pd\n",
    "import matplotlib.pyplot as plt\n",
    "\n",
    "# Set seed for reproducibility\n",
    "np.random.seed(42)\n",
    "\n",
    "# Generate timestamps\n",
    "time = pd.date_range(start=\"2025-01-01\", periods=1000, freq='s')  # every minute\n",
    "\n",
    "# Simulate normal sensor data (e.g., temperature in °C)\n",
    "mean_temp = 25\n",
    "std_dev = 0.5\n",
    "temperature = np.random.normal(loc=mean_temp, scale=std_dev, size=len(time))\n",
    "\n",
    "# Create DataFrame\n",
    "df = pd.DataFrame({\n",
    "    \"Timestamp\": time,\n",
    "    \"Temperature\": temperature\n",
    "})\n",
    "\n",
    "# Plot\n",
    "plt.figure(figsize=(10, 4))\n",
    "plt.plot(df[\"Timestamp\"], df[\"Temperature\"], label=\"Sensor Data\", color=\"#007acc\")\n",
    "plt.title(\"Normal Sensor Data (Temperature Readings)\")\n",
    "plt.xlabel(\"Time\")\n",
    "plt.ylabel(\"Temperature (°C)\")\n",
    "plt.grid(True)\n",
    "plt.tight_layout()\n",
    "plt.legend()\n",
    "\n",
    "# Save the plot\n",
    "plt.savefig(\"/home/rbakyayita/Documents/MScIS-thesis/mscis-thesis/figures/CleanData.png\", dpi=300)\n",
    "plt.close()\n",
    "\n",
    "print(\"Normal sensor data plot saved as 'figures/CleanData.png'\")\n",
    "plt.show()"
   ]
  },
  {
   "cell_type": "code",
   "execution_count": null,
   "id": "45ff8310",
   "metadata": {},
   "outputs": [],
   "source": []
  }
 ],
 "metadata": {
  "kernelspec": {
   "display_name": "mscis-thesis",
   "language": "python",
   "name": "python3"
  },
  "language_info": {
   "codemirror_mode": {
    "name": "ipython",
    "version": 3
   },
   "file_extension": ".py",
   "mimetype": "text/x-python",
   "name": "python",
   "nbconvert_exporter": "python",
   "pygments_lexer": "ipython3",
   "version": "3.12.3"
  }
 },
 "nbformat": 4,
 "nbformat_minor": 5
}
