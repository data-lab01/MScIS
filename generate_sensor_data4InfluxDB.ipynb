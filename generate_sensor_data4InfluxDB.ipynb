{
 "cells": [
  {
   "cell_type": "code",
   "execution_count": 2,
   "id": "272e66dd",
   "metadata": {},
   "outputs": [
    {
     "name": "stdout",
     "output_type": "stream",
     "text": [
      "✅ Generated 500 rows of sensor data in sensor_data.csv\n"
     ]
    }
   ],
   "source": [
    "import csv\n",
    "import random\n",
    "from datetime import datetime, timedelta\n",
    "\n",
    "# Configurable parameters\n",
    "output_file = 'sensor_data.csv'\n",
    "num_rows = 500\n",
    "start_time = datetime.now()\n",
    "interval_seconds = 5\n",
    "\n",
    "# Enable simulated data quality issues\n",
    "inject_anomalies = True\n",
    "inject_missing = True\n",
    "\n",
    "# Sensor simulation\n",
    "def simulate_sensor_data():\n",
    "    with open(output_file, mode='w', newline='') as csvfile:\n",
    "        fieldnames = ['timestamp', 'sensor_id', 'temperature', 'humidity', 'pressure']\n",
    "        writer = csv.DictWriter(csvfile, fieldnames=fieldnames)\n",
    "        writer.writeheader()\n",
    "\n",
    "        for i in range(num_rows):\n",
    "            timestamp = (start_time + timedelta(seconds=i * interval_seconds)).isoformat() + 'Z'\n",
    "            sensor_id = f\"sensor_{random.randint(1, 5)}\"\n",
    "            \n",
    "            # Base values\n",
    "            temp = round(random.uniform(20.0, 30.0), 2)\n",
    "            hum = round(random.uniform(40.0, 60.0), 2)\n",
    "            pres = round(random.uniform(990.0, 1025.0), 2)\n",
    "\n",
    "            # Inject anomaly (e.g., sudden spike)\n",
    "            if inject_anomalies and random.random() < 0.05:\n",
    "                temp += random.uniform(10, 20)  # spike\n",
    "                hum -= random.uniform(10, 15)\n",
    "\n",
    "            # Inject missing value\n",
    "            if inject_missing and random.random() < 0.05:\n",
    "                if random.choice(['temp', 'hum', 'pres']) == 'temp':\n",
    "                    temp = ''\n",
    "                elif random.choice(['temp', 'hum', 'pres']) == 'hum':\n",
    "                    hum = ''\n",
    "                else:\n",
    "                    pres = ''\n",
    "\n",
    "            writer.writerow({\n",
    "                'timestamp': timestamp,\n",
    "                'sensor_id': sensor_id,\n",
    "                'temperature': temp,\n",
    "                'humidity': hum,\n",
    "                'pressure': pres\n",
    "            })\n",
    "\n",
    "    print(f\"✅ Generated {num_rows} rows of sensor data in {output_file}\")\n",
    "\n",
    "if __name__ == '__main__':\n",
    "    simulate_sensor_data()\n"
   ]
  },
  {
   "cell_type": "code",
   "execution_count": null,
   "id": "a1b924a5",
   "metadata": {},
   "outputs": [],
   "source": []
  }
 ],
 "metadata": {
  "kernelspec": {
   "display_name": "Python 3",
   "language": "python",
   "name": "python3"
  },
  "language_info": {
   "codemirror_mode": {
    "name": "ipython",
    "version": 3
   },
   "file_extension": ".py",
   "mimetype": "text/x-python",
   "name": "python",
   "nbconvert_exporter": "python",
   "pygments_lexer": "ipython3",
   "version": "3.12.3"
  }
 },
 "nbformat": 4,
 "nbformat_minor": 5
}
