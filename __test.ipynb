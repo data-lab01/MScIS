{
 "cells": [
  {
   "cell_type": "code",
   "execution_count": 10,
   "id": "f7e7d2c0",
   "metadata": {},
   "outputs": [],
   "source": [
    "#pip install influxdb-client\n",
    "# export INFLUXDB_TOKEN=AzcamBJxRUDbP6a_3476wjy7FFfI5j2avbxHs558b_wndmrOXh3KtFR8v50OkW8CxvCsgfPjTJTET_VslKOsJg==\n",
    "import influxdb_client, os, time\n",
    "from influxdb_client import InfluxDBClient, Point, WritePrecision\n",
    "from influxdb_client.client.write_api import SYNCHRONOUS\n",
    "\n",
    "token = os.environ.get(\"AzcamBJxRUDbP6a_3476wjy7FFfI5j2avbxHs558b_wndmrOXh3KtFR8v50OkW8CxvCsgfPjTJTET_VslKOsJg==\")\n",
    "org = \"UMU\"\n",
    "url = \"http://localhost:8086\"\n",
    "\n",
    "write_client = influxdb_client.InfluxDBClient(url=url, token=token, org=org)\n"
   ]
  },
  {
   "cell_type": "code",
   "execution_count": null,
   "id": "977ef440",
   "metadata": {},
   "outputs": [],
   "source": [
    "from influxdb_client import InfluxDBClient\n",
    "from influxdb_client.client.write_api import SYNCHRONOUS\n",
    "\n",
    "# Configure client\n",
    "client = InfluxDBClient(\n",
    "    url=\"http://localhost:8086\",\n",
    "    token=\"your-token\",\n",
    "    org=\"your-org\"\n",
    ")\n",
    "write_api = client.write_api(write_options=SYNCHRONOUS)\n",
    "\n",
    "# Write data\n",
    "write_api.write(\n",
    "    bucket=\"your-bucket\",\n",
    "    record=\"anomaly_scores.csv\",\n",
    "    data_frame_measurement_name=\"sine_wave\",\n",
    "    data_frame_tag_columns=[],  # Add any tags if needed\n",
    "    data_frame_timestamp_column=\"timestamp\"\n",
    ")\n",
    "\n",
    "client.close()"
   ]
  }
 ],
 "metadata": {
  "kernelspec": {
   "display_name": "mscis-thesis",
   "language": "python",
   "name": "python3"
  },
  "language_info": {
   "codemirror_mode": {
    "name": "ipython",
    "version": 3
   },
   "file_extension": ".py",
   "mimetype": "text/x-python",
   "name": "python",
   "nbconvert_exporter": "python",
   "pygments_lexer": "ipython3",
   "version": "3.12.3"
  }
 },
 "nbformat": 4,
 "nbformat_minor": 5
}
