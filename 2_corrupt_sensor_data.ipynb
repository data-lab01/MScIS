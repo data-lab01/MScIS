{
 "cells": [
  {
   "cell_type": "code",
   "execution_count": 4,
   "id": "a26b3589",
   "metadata": {},
   "outputs": [
    {
     "name": "stdout",
     "output_type": "stream",
     "text": [
      "Corrupted sensor data plot saved as 'figures/CorruptData.png'\n"
     ]
    }
   ],
   "source": [
    "import numpy as np\n",
    "import pandas as pd\n",
    "import matplotlib.pyplot as plt\n",
    "import random\n",
    "\n",
    "# Set seed for reproducibility\n",
    "np.random.seed(42)\n",
    "random.seed(42)\n",
    "\n",
    "# Generate timestamps (every minute)\n",
    "time = pd.date_range(start=\"2025-01-01\", periods=1000, freq='s')\n",
    "\n",
    "# Generate normal temperature data\n",
    "temperature = np.random.normal(loc=25, scale=0.5, size=len(time))\n",
    "\n",
    "# Convert to DataFrame\n",
    "df = pd.DataFrame({\n",
    "    \"Timestamp\": time,\n",
    "    \"Temperature\": temperature\n",
    "})\n",
    "\n",
    "# Inject anomalies\n",
    "def inject_anomalies(df):\n",
    "    df = df.copy()\n",
    "\n",
    "    # 1. Inject sudden spikes\n",
    "    spike_indices = random.sample(range(len(df)), 5)\n",
    "    df.loc[spike_indices, \"Temperature\"] += np.random.uniform(5, 10, size=5)\n",
    "\n",
    "    # 2. Inject drops\n",
    "    drop_indices = random.sample(range(len(df)), 5)\n",
    "    df.loc[drop_indices, \"Temperature\"] -= np.random.uniform(5, 10, size=5)\n",
    "\n",
    "    # 3. Insert missing values\n",
    "    missing_indices = random.sample(range(len(df)), 5)\n",
    "    df.loc[missing_indices, \"Temperature\"] = np.nan\n",
    "\n",
    "    # 4. Duplicate entries\n",
    "    duplicate_rows = df.iloc[random.sample(range(len(df)), 3)]\n",
    "    df = pd.concat([df, duplicate_rows], ignore_index=True)\n",
    "\n",
    "    # 5. Add random noise\n",
    "    noise_indices = random.sample(range(len(df)), 10)\n",
    "    df.loc[noise_indices, \"Temperature\"] += np.random.normal(0, 2, size=10)\n",
    "\n",
    "    df.sort_values(\"Timestamp\", inplace=True)\n",
    "    df.reset_index(drop=True, inplace=True)\n",
    "    return df\n",
    "\n",
    "# Apply anomalies\n",
    "corrupted_df = inject_anomalies(df)\n",
    "\n",
    "# Plot\n",
    "plt.figure(figsize=(10, 4))\n",
    "plt.plot(df[\"Timestamp\"], df[\"Temperature\"], label=\"Normal\", alpha=0.6)\n",
    "plt.plot(corrupted_df[\"Timestamp\"], corrupted_df[\"Temperature\"], label=\"Corrupted\", color=\"red\", linewidth=1)\n",
    "plt.title(\"Corrupted Sensor Data with Anomalies\")\n",
    "plt.xlabel(\"Time\")\n",
    "plt.ylabel(\"Temperature (°C)\")\n",
    "plt.legend()\n",
    "plt.grid(True)\n",
    "plt.tight_layout()\n",
    "\n",
    "# Save plot\n",
    "plt.savefig(\"/home/rbakyayita/Documents/MScIS-thesis/mscis-thesis/figures/CorruptData.png\", dpi=300)\n",
    "plt.close()\n",
    "\n",
    "print(\"Corrupted sensor data plot saved as 'figures/CorruptData.png'\")\n"
   ]
  },
  {
   "cell_type": "code",
   "execution_count": null,
   "id": "4254d4af",
   "metadata": {},
   "outputs": [],
   "source": []
  }
 ],
 "metadata": {
  "kernelspec": {
   "display_name": "mscis-thesis",
   "language": "python",
   "name": "python3"
  },
  "language_info": {
   "codemirror_mode": {
    "name": "ipython",
    "version": 3
   },
   "file_extension": ".py",
   "mimetype": "text/x-python",
   "name": "python",
   "nbconvert_exporter": "python",
   "pygments_lexer": "ipython3",
   "version": "3.12.3"
  }
 },
 "nbformat": 4,
 "nbformat_minor": 5
}
