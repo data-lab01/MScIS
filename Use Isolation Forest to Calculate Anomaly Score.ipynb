{
 "cells": [
  {
   "cell_type": "code",
   "execution_count": 4,
   "id": "8bdfe19c",
   "metadata": {},
   "outputs": [
    {
     "ename": "NameError",
     "evalue": "name 'df' is not defined",
     "output_type": "error",
     "traceback": [
      "\u001b[31m---------------------------------------------------------------------------\u001b[39m",
      "\u001b[31mNameError\u001b[39m                                 Traceback (most recent call last)",
      "\u001b[36mCell\u001b[39m\u001b[36m \u001b[39m\u001b[32mIn[4]\u001b[39m\u001b[32m, line 5\u001b[39m\n\u001b[32m      3\u001b[39m \u001b[38;5;66;03m# Fit the model\u001b[39;00m\n\u001b[32m      4\u001b[39m model = IsolationForest(contamination=\u001b[32m0.01\u001b[39m, random_state=\u001b[32m42\u001b[39m)\n\u001b[32m----> \u001b[39m\u001b[32m5\u001b[39m model.fit(\u001b[43mdf\u001b[49m[[\u001b[33m'\u001b[39m\u001b[33mvalue\u001b[39m\u001b[33m'\u001b[39m]])\n\u001b[32m      7\u001b[39m \u001b[38;5;66;03m# Predict anomaly score\u001b[39;00m\n\u001b[32m      8\u001b[39m df[\u001b[33m'\u001b[39m\u001b[33manomaly_score\u001b[39m\u001b[33m'\u001b[39m] = model.decision_function(df[[\u001b[33m'\u001b[39m\u001b[33mvalue\u001b[39m\u001b[33m'\u001b[39m]])\n",
      "\u001b[31mNameError\u001b[39m: name 'df' is not defined"
     ]
    }
   ],
   "source": [
    "from sklearn.ensemble import IsolationForest\n",
    "\n",
    "# Fit the model\n",
    "model = IsolationForest(contamination=0.01, random_state=42)\n",
    "model.fit(df[['value']])\n",
    "\n",
    "# Predict anomaly score\n",
    "df['anomaly_score'] = model.decision_function(df[['value']])\n",
    "df['anomaly_label'] = model.predict(df[['value']])  # -1 = anomaly\n",
    "# Convert anomaly label to boolean\n",
    "df['is_anomaly'] = df['anomaly_label'] == -1"
   ]
  },
  {
   "cell_type": "code",
   "execution_count": null,
   "id": "60a40e9d",
   "metadata": {},
   "outputs": [],
   "source": []
  }
 ],
 "metadata": {
  "kernelspec": {
   "display_name": "mscis-thesis",
   "language": "python",
   "name": "python3"
  },
  "language_info": {
   "codemirror_mode": {
    "name": "ipython",
    "version": 3
   },
   "file_extension": ".py",
   "mimetype": "text/x-python",
   "name": "python",
   "nbconvert_exporter": "python",
   "pygments_lexer": "ipython3",
   "version": "3.12.3"
  }
 },
 "nbformat": 4,
 "nbformat_minor": 5
}
